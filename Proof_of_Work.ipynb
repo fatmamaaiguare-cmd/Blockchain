{
  "nbformat": 4,
  "nbformat_minor": 0,
  "metadata": {
    "colab": {
      "provenance": [],
      "authorship_tag": "ABX9TyOk3ql7Ya8DaGZkdnAbWdXi",
      "include_colab_link": true
    },
    "kernelspec": {
      "name": "python3",
      "display_name": "Python 3"
    },
    "language_info": {
      "name": "python"
    }
  },
  "cells": [
    {
      "cell_type": "markdown",
      "metadata": {
        "id": "view-in-github",
        "colab_type": "text"
      },
      "source": [
        "<a href=\"https://colab.research.google.com/github/fatmamaaiguare-cmd/Blockchain/blob/main/Proof_of_Work.ipynb\" target=\"_parent\"><img src=\"https://colab.research.google.com/assets/colab-badge.svg\" alt=\"Open In Colab\"/></a>"
      ]
    },
    {
      "cell_type": "code",
      "execution_count": null,
      "metadata": {
        "id": "kAJG98fJLO8o"
      },
      "outputs": [],
      "source": [
        "import hashlib\n",
        "from datetime import datetime\n",
        "\n",
        "class Block:\n",
        "    def __init__(self, index, timestamp, data, previous_hash=''):\n",
        "        self.index = index\n",
        "        self.timestamp = timestamp\n",
        "        self.data = data\n",
        "        self.previous_hash = previous_hash\n",
        "        self.nonce = 0  # Nouvelle variable nonce\n",
        "        self.hash = self.create_hash()\n",
        "\n",
        "    def create_hash(self):\n",
        "        # Inclut le nonce dans le calcul du hash\n",
        "        block_string = f\"{self.index}{self.previous_hash}{self.timestamp}{self.data}{self.nonce}\".encode()\n",
        "        return hashlib.sha256(block_string).hexdigest()\n",
        "\n",
        "    def mine_block(self, difficulty):\n",
        "        # Tente des nonces jusqu'à ce que le hash commence par '0'*difficulty\n",
        "        target = '0' * difficulty\n",
        "        while self.hash[:difficulty] != target:\n",
        "            self.nonce += 1\n",
        "            self.hash = self.create_hash()\n",
        "            # (optionnel) afficher les essais de hash\n",
        "            # print(f\"Essai nonce {self.nonce}: hash={self.hash}\")\n",
        "        print(f\"Bloc miné ! Nonce final : {self.nonce}, Hash : {self.hash}\")"
      ]
    },
    {
      "cell_type": "code",
      "source": [
        "import hashlib\n",
        "from datetime import datetime\n",
        "\n",
        "class Blockchain:\n",
        "    def __init__(self):\n",
        "        self.chain = [self.create_genesis_block()]\n",
        "        # Niveau de difficulté : nombre de zéros requis\n",
        "        self.difficulty = 4\n",
        "\n",
        "    def create_genesis_block(self):\n",
        "        # Bloc de genèse avec hash précédent \"0\"\n",
        "        return Block(0, \"2025-10-12\", \"Bloc de genèse\", \"0\")\n",
        "\n",
        "    def get_last_block(self):\n",
        "        return self.chain[-1]\n",
        "\n",
        "    def add_block(self, new_block):\n",
        "        new_block.previous_hash = self.get_last_block().hash\n",
        "        # Miner le bloc avant de l'ajouter\n",
        "        new_block.mine_block(self.difficulty)\n",
        "        self.chain.append(new_block)"
      ],
      "metadata": {
        "id": "0AMUI4CwRMcW"
      },
      "execution_count": null,
      "outputs": []
    },
    {
      "cell_type": "code",
      "source": [
        "# Création de la blockchain\n",
        "blockchain = Blockchain()\n",
        "\n",
        "print(f\"Bloc genèse hash: {blockchain.chain[0].hash}\")\n",
        "\n",
        "# Création et ajout d'un nouveau bloc\n",
        "bloc1 = Block(1, datetime.now(), \"Alice → Bob: 10 BTC\")\n",
        "blockchain.add_block(bloc1)\n",
        "\n",
        "\n",
        "# Ajout d'un deuxième bloc\n",
        "bloc2 = Block(2, datetime.now(), \"Bob → Charlie: 5 BTC\")\n",
        "blockchain.add_block(bloc2)\n",
        "\n",
        "bloc3 = Block(3, datetime.now(), \"charli → Csara: 15 BTC\")\n",
        "blockchain.add_block(bloc3)\n",
        "\n",
        "\n",
        "print(f\"Nombre de blocs: {len(blockchain.chain)}\")"
      ],
      "metadata": {
        "colab": {
          "base_uri": "https://localhost:8080/"
        },
        "id": "xtOI7wnCR1Kg",
        "outputId": "9e32f6e1-d058-4d00-ea84-2da0529ccf2b"
      },
      "execution_count": null,
      "outputs": [
        {
          "output_type": "stream",
          "name": "stdout",
          "text": [
            "Bloc genèse hash: 97b577fad1f25da49d928d0411df2bb3508990d72ccca0d1886e0b88dbd1a7e5\n",
            "Bloc miné ! Nonce final : 3588, Hash : 0000717c97d5361bc369db833b4798cdf902bfeaa43f0c98493541a1c9176682\n",
            "Bloc miné ! Nonce final : 12908, Hash : 0000e08e785c7c932a1e5f434564e9e2c0427005ef119d5015857b886f328b08\n",
            "Bloc miné ! Nonce final : 11125, Hash : 0000dc15ac468c2134e0a24d75193d5619de0ce22eaa593a9009fc0e4ac7dfde\n",
            "Nombre de blocs: 4\n"
          ]
        }
      ]
    },
    {
      "cell_type": "code",
      "source": [
        "import hashlib\n",
        "from datetime import datetime\n",
        "\n",
        "class Blockchain:\n",
        "    def __init__(self):\n",
        "        self.chain = [self.create_genesis_block()]\n",
        "        # Niveau de difficulté : nombre de zéros requis\n",
        "        self.difficulty = 4\n",
        "\n",
        "    def create_genesis_block(self):\n",
        "        # Bloc de genèse avec hash précédent \"0\"\n",
        "        return Block(0, \"2025-10-12\", \"Bloc de genèse\", \"0\")\n",
        "\n",
        "    def get_last_block(self):\n",
        "        return self.chain[-1]\n",
        "\n",
        "    def add_block(self, new_block):\n",
        "        new_block.previous_hash = self.get_last_block().hash\n",
        "        # Miner le bloc avant de l'ajouter\n",
        "        new_block.mine_block(self.difficulty)\n",
        "        self.chain.append(new_block)\n",
        "\n",
        "    def is_chain_valid(self):\n",
        "        for i in range(1, len(self.chain)):\n",
        "            current = self.chain[i]\n",
        "            prev = self.chain[i-1]\n",
        "\n",
        "            # Vérifier l'intégrité du hash\n",
        "            if current.hash != current.create_hash():\n",
        "                return False\n",
        "\n",
        "            # Vérifier le lien avec le bloc précédent\n",
        "            if current.previous_hash != prev.hash:\n",
        "                return False\n",
        "\n",
        "        return True"
      ],
      "metadata": {
        "id": "sH01_SPSVJcX"
      },
      "execution_count": null,
      "outputs": []
    },
    {
      "cell_type": "code",
      "source": [
        "# Création d'une blockchain valide\n",
        "blockchain = Blockchain()\n",
        "bloc1 = Block(1, \"10:00\", \"Transaction A\")\n",
        "blockchain.add_block(bloc1)\n",
        "\n",
        "# Test de validité\n",
        "print(f\"Blockchain valide ? {blockchain.is_chain_valid()}\")  # → True\n",
        "\n",
        "# Tentative de falsification\n",
        "blockchain.chain[1].data = \"Transaction modifiée !\"  # 🚨 FRAUDE !\n",
        "\n",
        "# Re-test de validité\n",
        "print(f\"Blockchain valide après modification ? {blockchain.is_chain_valid()}\")  # → False"
      ],
      "metadata": {
        "colab": {
          "base_uri": "https://localhost:8080/"
        },
        "id": "KItY6Na4WLPy",
        "outputId": "c71969a6-9578-481b-ec9c-48ea9d716524"
      },
      "execution_count": null,
      "outputs": [
        {
          "output_type": "stream",
          "name": "stdout",
          "text": [
            "Bloc miné ! Nonce final : 2920, Hash : 0000e1c62197d63074884f2a09dbc95511c41a6122addcd4c8e10e001332476b\n",
            "Blockchain valide ? True\n",
            "Blockchain valide après modification ? False\n"
          ]
        }
      ]
    }
  ]
}