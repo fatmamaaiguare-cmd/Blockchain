{
  "nbformat": 4,
  "nbformat_minor": 0,
  "metadata": {
    "colab": {
      "provenance": [],
      "authorship_tag": "ABX9TyOW7B1wJtnE7f36/Q+DHDaD",
      "include_colab_link": true
    },
    "kernelspec": {
      "name": "python3",
      "display_name": "Python 3"
    },
    "language_info": {
      "name": "python"
    }
  },
  "cells": [
    {
      "cell_type": "markdown",
      "metadata": {
        "id": "view-in-github",
        "colab_type": "text"
      },
      "source": [
        "<a href=\"https://colab.research.google.com/github/fatmamaaiguare-cmd/Blockchain/blob/main/Technologies_Blockchain_1.ipynb\" target=\"_parent\"><img src=\"https://colab.research.google.com/assets/colab-badge.svg\" alt=\"Open In Colab\"/></a>"
      ]
    },
    {
      "cell_type": "code",
      "execution_count": 19,
      "metadata": {
        "id": "z4KqBQ_eEtMQ"
      },
      "outputs": [],
      "source": [
        "class Block:\n",
        "    def __init__(self, index, timestamp, data, previous_hash=''):\n",
        "        # Position du bloc dans la blockchain\n",
        "        self.index = index\n",
        "        # Date de création du bloc\n",
        "        self.timestamp = timestamp\n",
        "        # Données du bloc (transactions, etc.)\n",
        "        self.data = data\n",
        "        # Hachage du bloc précédent\n",
        "        self.previous_hash = previous_hash\n",
        "        # Hachage du bloc courant (à calculer ultérieurement)\n",
        "        self.hash = ''"
      ]
    },
    {
      "cell_type": "code",
      "source": [
        "# Créer le bloc initial (genesis block)\n",
        "genesis_block = Block(0, \"2025-10-12 00:00\", \"Bloc de genèse\",\n",
        "previous_hash=\"0\")\n",
        "# Chaîne sous forme de liste Python\n",
        "blockchain = [genesis_block]\n",
        "# Afficher le bloc de genèse\n",
        "print(\"Index:\", genesis_block.index)\n",
        "print(\"Timestamp:\", genesis_block.timestamp)\n",
        "print(\"Données:\", genesis_block.data)\n",
        "print(\"Previous Hash:\", genesis_block.previous_hash)\n",
        "print(\"Hash:\", genesis_block.hash)  # vide pour l'instant"
      ],
      "metadata": {
        "colab": {
          "base_uri": "https://localhost:8080/"
        },
        "id": "cvLhI7hrE6zY",
        "outputId": "57a64964-ca4e-4cee-ca17-f79cfe37c39f"
      },
      "execution_count": 20,
      "outputs": [
        {
          "output_type": "stream",
          "name": "stdout",
          "text": [
            "Index: 0\n",
            "Timestamp: 2025-10-12 00:00\n",
            "Données: Bloc de genèse\n",
            "Previous Hash: 0\n",
            "Hash: \n"
          ]
        }
      ]
    },
    {
      "cell_type": "code",
      "source": [
        "# Créer un second bloc\n",
        "bloc1 = Block(1, \"2025-10-12 00:05\", \"Alice envoie 5 BTC\", previous_hash=genesis_block.hash)\n",
        "blockchain.append(bloc1)\n",
        "\n",
        "# Afficher la chaîne de blocs avec les hachages masqués\n",
        "\n",
        "for bloc in blockchain:\n",
        "    print(f\"Bloc {bloc.index}: data='{bloc.data}', prev_hash=*****, hash=*****\")"
      ],
      "metadata": {
        "colab": {
          "base_uri": "https://localhost:8080/"
        },
        "id": "6TPwoBr4E9fp",
        "outputId": "25cd7ae1-4685-4c03-f9f4-0bb9f5242159"
      },
      "execution_count": 21,
      "outputs": [
        {
          "output_type": "stream",
          "name": "stdout",
          "text": [
            "Bloc 0: data='Bloc de genèse', prev_hash=*****, hash=*****\n",
            "Bloc 1: data='Alice envoie 5 BTC', prev_hash=*****, hash=*****\n"
          ]
        }
      ]
    }
  ]
}