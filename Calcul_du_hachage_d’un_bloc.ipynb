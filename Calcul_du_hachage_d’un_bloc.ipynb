{
  "nbformat": 4,
  "nbformat_minor": 0,
  "metadata": {
    "colab": {
      "provenance": [],
      "authorship_tag": "ABX9TyP8yuVGXyymIxz/Z7oL+O2s",
      "include_colab_link": true
    },
    "kernelspec": {
      "name": "python3",
      "display_name": "Python 3"
    },
    "language_info": {
      "name": "python"
    }
  },
  "cells": [
    {
      "cell_type": "markdown",
      "metadata": {
        "id": "view-in-github",
        "colab_type": "text"
      },
      "source": [
        "<a href=\"https://colab.research.google.com/github/fatmamaaiguare-cmd/Blockchain/blob/main/Calcul_du_hachage_d%E2%80%99un_bloc.ipynb\" target=\"_parent\"><img src=\"https://colab.research.google.com/assets/colab-badge.svg\" alt=\"Open In Colab\"/></a>"
      ]
    },
    {
      "cell_type": "code",
      "execution_count": 52,
      "metadata": {
        "id": "wnCYfwm2BfUm"
      },
      "outputs": [],
      "source": [
        "import hashlib\n",
        "\n",
        "class Block:\n",
        "    def __init__(self, index, timestamp, data, previous_hash=''):\n",
        "        self.index = index\n",
        "        self.timestamp = timestamp\n",
        "        self.data = data\n",
        "        self.previous_hash = previous_hash\n",
        "        # Appelle la fonction de hachage lors de l'initialisation\n",
        "        self.hash = self.create_hash()\n",
        "\n",
        "    def create_hash(self):\n",
        "        # Concatène les attributs du bloc en une seule chaîne\n",
        "        block_string = f\"{self.index}{self.previous_hash}{self.timestamp}{self.data}\".encode()\n",
        "        # Calcule et retourne le hachage SHA-256\n",
        "        return hashlib.sha256(block_string).hexdigest()\n",
        "\n",
        "    def update_data(self, new_data):\n",
        "        \"\"\"Met à jour les données et recalcule le hash\"\"\"\n",
        "        self.data = new_data\n",
        "        self.hash = self.create_hash()  # Mise à jour du hash"
      ]
    },
    {
      "cell_type": "code",
      "source": [
        "# Créer le bloc initial (genesis block)\n",
        "genesis_block = Block(0, \"2025-10-12 00:00\", \"Bloc de genèse\",\n",
        "previous_hash=\"0\")"
      ],
      "metadata": {
        "id": "-5YubPkPE9Kz"
      },
      "execution_count": 53,
      "outputs": []
    },
    {
      "cell_type": "code",
      "source": [
        "# Chaîne sous forme de liste Python\n",
        "blockchain = [genesis_block]"
      ],
      "metadata": {
        "id": "Ax1c29TUFE-R"
      },
      "execution_count": 54,
      "outputs": []
    },
    {
      "cell_type": "code",
      "source": [
        "print(\"=== BLOC DE GENÈSE ===\")\n",
        "print(\"Index:\", genesis_block.index)\n",
        "print(\"Timestamp:\", genesis_block.timestamp)\n",
        "print(\"Données:\", genesis_block.data)\n",
        "print(\"Previous Hash:\", genesis_block.previous_hash)\n",
        "print(\"Hash:\", genesis_block.hash)\n",
        "print()"
      ],
      "metadata": {
        "colab": {
          "base_uri": "https://localhost:8080/"
        },
        "id": "jmwJosu3FIwr",
        "outputId": "3791fcd2-a5d6-4336-ba30-460c90c1d5ff"
      },
      "execution_count": 55,
      "outputs": [
        {
          "output_type": "stream",
          "name": "stdout",
          "text": [
            "=== BLOC DE GENÈSE ===\n",
            "Index: 0\n",
            "Timestamp: 2025-10-12 00:00\n",
            "Données: Bloc de genèse\n",
            "Previous Hash: 0\n",
            "Hash: 385df60852ad89ce3e9397ab6b13375a6d3d6dfd0c5e774f391302b8096a637b\n",
            "\n"
          ]
        }
      ]
    },
    {
      "cell_type": "code",
      "source": [
        "bloc1 = Block(1, \"2025-10-12 00:05\", \"Alice envoie 5 BTC\", previous_hash=genesis_block.hash)\n",
        "blockchain.append(bloc1)\n",
        "print(f\"Données originales: {bloc1.data}\")\n",
        "print(f\"Hash original: {bloc1.hash}\")"
      ],
      "metadata": {
        "colab": {
          "base_uri": "https://localhost:8080/"
        },
        "id": "0Cse-xaQMuUP",
        "outputId": "5afc0413-10bb-4439-829a-1ec338053b5c"
      },
      "execution_count": 56,
      "outputs": [
        {
          "output_type": "stream",
          "name": "stdout",
          "text": [
            "Données originales: Alice envoie 5 BTC\n",
            "Hash original: 601e99e3da8875cf9695c047a1952b4b75895fcfc3282b11d857dd904d260841\n"
          ]
        }
      ]
    },
    {
      "cell_type": "code",
      "source": [
        "# Test de modification\n",
        "print(\"=== TEST DE MODIFICATION ===\")\n",
        "print(\"Avant modification:\")\n",
        "print(f\"Données: '{bloc1.data}'\")\n",
        "print(f\"Hash: {bloc1.hash}\")"
      ],
      "metadata": {
        "colab": {
          "base_uri": "https://localhost:8080/"
        },
        "id": "lJDDGAvSI5xQ",
        "outputId": "8b04ab51-1a67-406f-96db-1f102ff1635c"
      },
      "execution_count": 57,
      "outputs": [
        {
          "output_type": "stream",
          "name": "stdout",
          "text": [
            "=== TEST DE MODIFICATION ===\n",
            "Avant modification:\n",
            "Données: 'Alice envoie 5 BTC'\n",
            "Hash: 601e99e3da8875cf9695c047a1952b4b75895fcfc3282b11d857dd904d260841\n"
          ]
        }
      ]
    },
    {
      "cell_type": "code",
      "source": [
        "\n",
        "bloc1.update_data(\"Transaction: 7 BTC\")\n",
        "\n",
        "print(\"\\nAprès modification avec update_data:\")\n",
        "print(f\"Données: '{bloc1.data}'\")\n",
        "print(f\"Hash MODIFIEE: {bloc1.hash}\")"
      ],
      "metadata": {
        "colab": {
          "base_uri": "https://localhost:8080/"
        },
        "id": "dKKsXRvXNWd1",
        "outputId": "80435f60-e2a9-49c0-b79c-e638382f018a"
      },
      "execution_count": 58,
      "outputs": [
        {
          "output_type": "stream",
          "name": "stdout",
          "text": [
            "\n",
            "Après modification avec update_data:\n",
            "Données: 'Transaction: 7 BTC'\n",
            "Hash MODIFIEE: cd81f1b028f006ea9bd33dc5be573ef0e3f8188e48d958e18157bb369eba5a57\n"
          ]
        }
      ]
    },
    {
      "cell_type": "code",
      "source": [
        "print(\"=== CHAÎNE DE BLOCS COMPLÈTE ===\")\n",
        "for bloc in blockchain:\n",
        "    print(f\"Bloc {bloc.index}:\")\n",
        "    print(f\"  Timestamp: {bloc.timestamp}\")\n",
        "    print(f\"  Données: {bloc.data}\")\n",
        "    print(f\"  Hash précédent: {bloc.previous_hash}\")\n",
        "    print(f\"  Hash actuel: {bloc.hash}\")\n",
        "    print(\"-\" * 50)"
      ],
      "metadata": {
        "colab": {
          "base_uri": "https://localhost:8080/"
        },
        "id": "X2FDYkpJFb1u",
        "outputId": "34766b4d-2972-4b7d-fde6-3deb8e9ba7a7"
      },
      "execution_count": 59,
      "outputs": [
        {
          "output_type": "stream",
          "name": "stdout",
          "text": [
            "=== CHAÎNE DE BLOCS COMPLÈTE ===\n",
            "Bloc 0:\n",
            "  Timestamp: 2025-10-12 00:00\n",
            "  Données: Bloc de genèse\n",
            "  Hash précédent: 0\n",
            "  Hash actuel: 385df60852ad89ce3e9397ab6b13375a6d3d6dfd0c5e774f391302b8096a637b\n",
            "--------------------------------------------------\n",
            "Bloc 1:\n",
            "  Timestamp: 2025-10-12 00:05\n",
            "  Données: Transaction: 7 BTC\n",
            "  Hash précédent: 385df60852ad89ce3e9397ab6b13375a6d3d6dfd0c5e774f391302b8096a637b\n",
            "  Hash actuel: cd81f1b028f006ea9bd33dc5be573ef0e3f8188e48d958e18157bb369eba5a57\n",
            "--------------------------------------------------\n"
          ]
        }
      ]
    },
    {
      "cell_type": "code",
      "source": [
        "import hashlib\n",
        "import json\n",
        "\n",
        "\n",
        "# Création de la blockchain\n",
        "\n",
        "\n",
        "# Affichage en JSON\n",
        "print(json.dumps([b.__dict__ for b in blockchain], indent=4))"
      ],
      "metadata": {
        "colab": {
          "base_uri": "https://localhost:8080/"
        },
        "id": "kep2ZY7rN9IW",
        "outputId": "7d92533f-5427-4acc-849e-76584b57ccc6"
      },
      "execution_count": 60,
      "outputs": [
        {
          "output_type": "stream",
          "name": "stdout",
          "text": [
            "[\n",
            "    {\n",
            "        \"index\": 0,\n",
            "        \"timestamp\": \"2025-10-12 00:00\",\n",
            "        \"data\": \"Bloc de gen\\u00e8se\",\n",
            "        \"previous_hash\": \"0\",\n",
            "        \"hash\": \"385df60852ad89ce3e9397ab6b13375a6d3d6dfd0c5e774f391302b8096a637b\"\n",
            "    },\n",
            "    {\n",
            "        \"index\": 1,\n",
            "        \"timestamp\": \"2025-10-12 00:05\",\n",
            "        \"data\": \"Transaction: 7 BTC\",\n",
            "        \"previous_hash\": \"385df60852ad89ce3e9397ab6b13375a6d3d6dfd0c5e774f391302b8096a637b\",\n",
            "        \"hash\": \"cd81f1b028f006ea9bd33dc5be573ef0e3f8188e48d958e18157bb369eba5a57\"\n",
            "    }\n",
            "]\n"
          ]
        }
      ]
    }
  ]
}